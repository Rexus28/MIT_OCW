{
 "cells": [
  {
   "cell_type": "markdown",
   "metadata": {},
   "source": [
    "<p>This notebook is my solution for <a href=https://ocw.mit.edu/courses/aeronautics-and-astronautics/16-20-structural-mechanics-fall-2002/assignments/dp3.pdf>Design Problem #3</a> of the Structural Mechanics course of MIT Open Course Work.</br>\n",
    "\n",
    "Paul Lagace. 16.20 Structural Mechanics. Fall 2002. Massachusetts Institute of Technology: MIT OpenCourseWare, https://ocw.mit.edu. License: Creative Commons BY-NC-SA.</p>"
   ]
  },
  {
   "cell_type": "code",
   "execution_count": null,
   "metadata": {},
   "outputs": [],
   "source": [
    "import numpy as np\n",
    "import sympy as sp\n",
    "from sympy import init_printing\n",
    "init_printing(use_latex=True)\n",
    "from sympy.utilities.lambdify import lambdify"
   ]
  },
  {
   "cell_type": "code",
   "execution_count": 2,
   "metadata": {},
   "outputs": [],
   "source": [
    "# All the material properties for base and piezoelectric materials\n",
    "al_7075_T6 = {'E_L':70e9, 'E_T':70e9, 'nu':0.3, 'a_L':12.9*1.8e-6, 'a_T':12.9*1.8e-6,\n",
    "              'rho':2.8e3, 'price':60*2.204, 'name':'AL 7075-T6'}\n",
    "Ti_6Al_4V = {'E_L':107e9, 'E_T':107e9, 'nu':0.3, 'a_L':5*1.8e-6, 'a_T':5*1.8e-6,\n",
    "             'rho':4.43e3, 'price':85*2.204, 'name':'Ti-6Al-4V'}\n",
    "AS4_3501_6 = {'E_L':80e9, 'E_T':30e9, 'nu':0.43, 'a_L':4.2*1.8e-6, 'a_T':7.3*1.8e-6,\n",
    "              'rho':1.54e3, 'price':140*2.204, 'name':'Graphite/Epoxy AS4/3501-6'}\n",
    "P70_5501_6 = {'E_L':170e9, 'E_T':25e9, 'nu':0.45, 'a_L':2.1*1.8e-6, 'a_T':6.3*1.8e-6,\n",
    "              'rho':1.6e3, 'price':300*2.204, 'name':'Graphite/Epoxy P70/3501-6'}\n",
    "base_materials = [al_7075_T6, Ti_6Al_4V, AS4_3501_6, P70_5501_6]\n",
    "\n",
    "pzt_4 = {'E':64e9, 'nu':0.31, 'a':4.5e-6, 'd_113':-0.123e3, 'd_333':0.289e3,\n",
    "         'Ek':10e5, 'rho':7.5e3, 'price':5600*2.204, 'name':'PZT 4'}\n",
    "pzt_5H = {'E':48e9, 'nu':0.31, 'a':4.5e-6, 'd_113':-0.274e3, 'd_333':0.593e3,\n",
    "         'Ek':4e5, 'rho':7.5e3, 'price':5600*2.204, 'name':'PZT 5H'}\n",
    "pzt_5A = {'E':53e9, 'nu':0.31, 'a':4.5e-6, 'd_113':-0.171e3, 'd_333':0.374e3,\n",
    "         'Ek':7e5, 'rho':7.5e3, 'price':5600*2.204, 'name':'PZT 5A'}\n",
    "piezo_materials = [pzt_4, pzt_5H, pzt_5A]"
   ]
  },
  {
   "cell_type": "code",
   "execution_count": 12,
   "metadata": {},
   "outputs": [],
   "source": [
    "T_min = -75  # deg C\n",
    "T_max = 100  # deg C\n",
    "Length = 29  # m\n",
    "displacement = 0.01  # m"
   ]
  },
  {
   "cell_type": "code",
   "execution_count": 3,
   "metadata": {},
   "outputs": [],
   "source": [
    "s_b1, E_bl, a_bl, dT = sp.symbols('sigma_b1, E_bl, alpha_bl dT')\n",
    "s_p1, E_p, a_p, d_113, E_k = sp.symbols('sigma_p1, E_p, alpha_p, d_113, E_k')\n",
    "t_b, t_p, L, L_d, x, du = sp.symbols('t_b, t_p, L, L_d, x, du')"
   ]
  },
  {
   "cell_type": "code",
   "execution_count": 4,
   "metadata": {},
   "outputs": [
    {
     "name": "stdout",
     "output_type": "stream",
     "text": [
      "Base material strain equation:\n"
     ]
    },
    {
     "data": {
      "image/png": "[encoded data removed]",
      "text/latex": [
       "$\\displaystyle \\alpha_{bl} dT + \\frac{\\sigma_{b1}}{E_{bl}}$"
      ],
      "text/plain": [
       "          σ_b1\n",
       "α_bl⋅dT + ────\n",
       "          E_bl"
      ]
     },
     "execution_count": 4,
     "metadata": {},
     "output_type": "execute_result"
    }
   ],
   "source": [
    "# Equation for strain of the base material\n",
    "e_m_b1 = s_b1/E_bl\n",
    "e_t_b1 = a_bl*dT\n",
    "e_b1 = e_m_b1 + e_t_b1\n",
    "print(\"Base material strain equation:\")\n",
    "e_b1"
   ]
  },
  {
   "cell_type": "code",
   "execution_count": 5,
   "metadata": {},
   "outputs": [
    {
     "name": "stdout",
     "output_type": "stream",
     "text": [
      "Piezoelectric material strain equation:\n"
     ]
    },
    {
     "data": {
      "image/png": "[encoded data removed]",
      "text/latex": [
       "$\\displaystyle E_{k} d_{113} + \\alpha_{p} dT + \\frac{\\sigma_{p1}}{E_{p}}$"
      ],
      "text/plain": [
       "                  σₚ₁\n",
       "Eₖ⋅d₁₁₃ + αₚ⋅dT + ───\n",
       "                   Eₚ"
      ]
     },
     "execution_count": 5,
     "metadata": {},
     "output_type": "execute_result"
    }
   ],
   "source": [
    "# strain of the piezoelectric material\n",
    "e_m_p1 = s_p1/E_p\n",
    "e_t_p1 = a_p*dT\n",
    "e_p_p1 = d_113*E_k\n",
    "e_p1 = e_m_p1 + e_t_p1 + e_p_p1\n",
    "print(\"Piezoelectric material strain equation:\")\n",
    "e_p1"
   ]
  },
  {
   "cell_type": "code",
   "execution_count": 6,
   "metadata": {},
   "outputs": [
    {
     "name": "stdout",
     "output_type": "stream",
     "text": [
      "Relationship of self-equilibrating stresses:\n"
     ]
    },
    {
     "data": {
      "image/png": "[encoded data removed]",
      "text/latex": [
       "$\\displaystyle 2 \\sigma_{b1} t_{b} + \\sigma_{p1} t_{p}$"
      ],
      "text/plain": [
       "2⋅σ_b1⋅t_b + σₚ₁⋅tₚ"
      ]
     },
     "execution_count": 6,
     "metadata": {},
     "output_type": "execute_result"
    }
   ],
   "source": [
    "# equation for equilibrating stress in the cross section\n",
    "# the composite structure must be in equilibrium with no\n",
    "# net forces and stresses that cancel out based on the \n",
    "# stress in each material and their cross-section area\n",
    "equilibrating_stress = sp.integrate(s_b1, (x, -t_b-t_p/2, -t_p/2))\\\n",
    "    + sp.integrate(s_p1, (x, -t_p/2, t_p/2))\\\n",
    "    + sp.integrate(s_b1, (x, t_p/2, t_p/2 + t_b))\n",
    "print(\"Relationship of self-equilibrating stresses:\")\n",
    "sp.simplify(equilibrating_stress)"
   ]
  },
  {
   "cell_type": "code",
   "execution_count": 8,
   "metadata": {},
   "outputs": [
    {
     "name": "stdout",
     "output_type": "stream",
     "text": [
      "Base material stress equation:\n"
     ]
    },
    {
     "data": {
      "image/png": "[encoded data removed]",
      "text/latex": [
       "$\\displaystyle - E_{bl} \\alpha_{bl} dT + \\frac{E_{bl} du}{L_{d}}$"
      ],
      "text/plain": [
       "                E_bl⋅du\n",
       "-E_bl⋅α_bl⋅dT + ───────\n",
       "                  L_d  "
      ]
     },
     "execution_count": 8,
     "metadata": {},
     "output_type": "execute_result"
    }
   ],
   "source": [
    "# solve for the base material stress based on displacement integrated from the\n",
    "# strain equation over the length of the structure\n",
    "u_b = sp.integrate(e_b1, (x, 0, L_d))\n",
    "stress_b1 = sp.solve(u_b - du, s_b1)[0]\n",
    "stress_b1_func = lambdify((E_bl, a_bl, dT, L_d, du), stress_b1)\n",
    "print(\"Base material stress equation:\")\n",
    "sp.simplify(stress_b1)"
   ]
  },
  {
   "cell_type": "code",
   "execution_count": 9,
   "metadata": {},
   "outputs": [
    {
     "name": "stdout",
     "output_type": "stream",
     "text": [
      "Piezo material stress equation:\n"
     ]
    },
    {
     "data": {
      "image/png": "[encoded data removed]",
      "text/latex": [
       "$\\displaystyle - \\frac{E_{p} \\left(L_{d} \\left(E_{k} d_{113} + \\alpha_{p} dT\\right) - du\\right)}{L_{d}}$"
      ],
      "text/plain": [
       "-Eₚ⋅(L_d⋅(Eₖ⋅d₁₁₃ + αₚ⋅dT) - du) \n",
       "─────────────────────────────────\n",
       "               L_d               "
      ]
     },
     "execution_count": 9,
     "metadata": {},
     "output_type": "execute_result"
    }
   ],
   "source": [
    "# piezo material stress equation, solve just like base material above\n",
    "u_p = sp.integrate(e_p1, (x, 0, L_d))\n",
    "stress_p1 = sp.solve(u_p - du, s_p1)[0]\n",
    "stress_p1_func = lambdify((E_p, a_p, d_113, E_k, dT, L_d, du), stress_p1)\n",
    "print(\"Piezo material stress equation:\")\n",
    "sp.simplify(stress_p1)"
   ]
  },
  {
   "cell_type": "code",
   "execution_count": 10,
   "metadata": {},
   "outputs": [
    {
     "name": "stdout",
     "output_type": "stream",
     "text": [
      "Piezo material electric field equation:\n"
     ]
    },
    {
     "data": {
      "image/png": "[encoded data removed]",
      "text/latex": [
       "$\\displaystyle - \\frac{\\alpha_{p} dT}{d_{113}} + \\frac{du}{L_{d} d_{113}} - \\frac{\\sigma_{p1}}{E_{p} d_{113}}$"
      ],
      "text/plain": [
       "  αₚ⋅dT      du        σₚ₁  \n",
       "- ───── + ──────── - ───────\n",
       "   d₁₁₃   L_d⋅d₁₁₃   Eₚ⋅d₁₁₃"
      ]
     },
     "execution_count": 10,
     "metadata": {},
     "output_type": "execute_result"
    }
   ],
   "source": [
    "# solve for the electric field variable from the piezo material displacement\n",
    "# equation\n",
    "Efield_p1 = sp.solve(u_p - du, E_k)[0]\n",
    "Efield_p1_func = lambdify((E_p, a_p, d_113, s_p1, dT, L_d, du), Efield_p1)\n",
    "print(\"Piezo material electric field equation:\")\n",
    "sp.simplify(Efield_p1)"
   ]
  },
  {
   "cell_type": "code",
   "execution_count": 11,
   "metadata": {},
   "outputs": [],
   "source": [
    "def thermal_strain(a, dT):\n",
    "    return a*dT\n",
    "\n",
    "def mech_strain(stress, E):\n",
    "    return stress/E\n",
    "\n",
    "def piezo_strain(d, Ek):\n",
    "    return d*Ek"
   ]
  },
  {
   "cell_type": "code",
   "execution_count": 46,
   "metadata": {},
   "outputs": [
    {
     "name": "stdout",
     "output_type": "stream",
     "text": [
      "For base material: AL 7075-T6:\n",
      "    with PZT 4:\n",
      "        tb/tp = 0.00240\n",
      "        Ek = 9.394e-07 V/m\n",
      "        V/tb = 3.917e-04 V\n",
      "        cost ratio is 104236.95\n",
      "    with PZT 5H:\n",
      "        tb/tp = 0.00180\n",
      "        Ek = 4.217e-07 V/m\n",
      "        V/tb = 2.344e-04 V\n",
      "        cost ratio is 138982.60\n",
      "    with PZT 5A:\n",
      "        tb/tp = 0.00199\n",
      "        Ek = 6.757e-07 V/m\n",
      "        V/tb = 3.402e-04 V\n",
      "        cost ratio is 125871.03\n",
      "\n",
      "For base material: Ti-6Al-4V:\n",
      "    with PZT 4:\n",
      "        tb/tp = 0.00664\n",
      "        Ek = 9.552e-07 V/m\n",
      "        V/tb = 1.439e-04 V\n",
      "        cost ratio is 16805.07\n",
      "    with PZT 5H:\n",
      "        tb/tp = 0.00498\n",
      "        Ek = 4.288e-07 V/m\n",
      "        V/tb = 8.614e-05 V\n",
      "        cost ratio is 22406.76\n",
      "    with PZT 5A:\n",
      "        tb/tp = 0.00550\n",
      "        Ek = 6.871e-07 V/m\n",
      "        V/tb = 1.250e-04 V\n",
      "        cost ratio is 20292.91\n",
      "\n",
      "For base material: Graphite/Epoxy AS4/3501-6:\n",
      "    with PZT 4:\n",
      "        tb/tp = 0.01319\n",
      "        Ek = 9.653e-07 V/m\n",
      "        V/tb = 7.317e-05 V\n",
      "        cost ratio is 14766.23\n",
      "    with PZT 5H:\n",
      "        tb/tp = 0.00989\n",
      "        Ek = 4.333e-07 V/m\n",
      "        V/tb = 4.380e-05 V\n",
      "        cost ratio is 19688.31\n",
      "    with PZT 5A:\n",
      "        tb/tp = 0.01093\n",
      "        Ek = 6.943e-07 V/m\n",
      "        V/tb = 6.356e-05 V\n",
      "        cost ratio is 17830.92\n",
      "\n",
      "For base material: Graphite/Epoxy P70/3501-6:\n",
      "    with PZT 4:\n",
      "        tb/tp = 69795768618.70128\n",
      "        Ek = 1.000e+05 V/m\n",
      "        V/tb = 1.433e-06 V\n",
      "        cost ratio is 0.00\n",
      "    with PZT 5H:\n",
      "        tb/tp = 46644001467.08331\n",
      "        Ek = 4.000e+04 V/m\n",
      "        V/tb = 8.576e-07 V\n",
      "        cost ratio is 0.00\n",
      "    with PZT 5A:\n",
      "        tb/tp = 56248899351.34634\n",
      "        Ek = 7.000e+04 V/m\n",
      "        V/tb = 1.244e-06 V\n",
      "        cost ratio is 0.00\n",
      "\n"
     ]
    }
   ],
   "source": [
    "for base in base_materials:\n",
    "    # calculate min and max stresses to keep the base material at the\n",
    "    # design displacement limit\n",
    "    s_b_min = stress_b1_func(base['E_L'], base['a_L'], T_min, Length, -displacement)\n",
    "    s_b_max = stress_b1_func(base['E_L'], base['a_L'], T_max, Length, displacement)\n",
    "    \n",
    "    print(f\"For base material: {base['name']}:\")\n",
    "    for piezo in piezo_materials:\n",
    "        # calculate stress for min displacement of the piezo material\n",
    "        # this should be negative to compress material to design displacement\n",
    "        s_p_min = stress_p1_func(piezo['E'], piezo['a'], piezo['d_113'],\n",
    "                                 0, T_min, Length, -displacement)\n",
    "        # calculate ratio of thicknesses based on stresses to reach design\n",
    "        # displacement at -75 deg C\n",
    "        t_ratio = -s_p_min/(2*s_b_min)\n",
    "        if t_ratio < 0:\n",
    "            s_p_max = stress_p1_func(piezo['E'], piezo['a'], piezo['d_113'],\n",
    "                                     piezo['Ek']/10, T_max, Length, displacement)\n",
    "            t_ratio = -s_p_max/(2*s_b_max)\n",
    "            delta_T = 100\n",
    "            delta_u = 0.01\n",
    "            s_p_min = -t_ratio*2*s_b_min\n",
    "        else:\n",
    "            s_p_max = -t_ratio*2*s_b_max\n",
    "            delta_T = 100\n",
    "            delta_u = 0.01\n",
    "        \n",
    "        # calculate electric field needed to have piezo strain match max displacement\n",
    "        # this uses max piezo stress based on the stress and thickness ratio of\n",
    "        # base material at 100 deg C\n",
    "        Efield = Efield_p1_func(piezo['E'], piezo['a'], piezo['d_113'], s_p_max,\n",
    "                                delta_T, Length, delta_u)\n",
    "\n",
    "        # check the max and min displacements of the piezo to confirm strain\n",
    "        # meets design requirements\n",
    "        du_max = thermal_strain(piezo['a'], T_max)*Length\\\n",
    "            + mech_strain(s_p_max, piezo['E'])*Length\\\n",
    "            + piezo_strain(piezo['d_113'], Efield)*Length\n",
    "        \n",
    "        du_min = thermal_strain(piezo['a'], T_min)*Length\\\n",
    "            + mech_strain(s_p_min, piezo['E'])*Length\n",
    "        \n",
    "        print(f\"    with {piezo['name']}:\")\n",
    "        print(f\"        tb/tp = {t_ratio:.5f}\")\n",
    "        print(f\"        Ek = {Efield:.3e} V/m\")\n",
    "        print(f\"        V/tb = {Efield/t_ratio:.3e} V\")\n",
    "        if Efield > piezo['Ek']/2:\n",
    "            print(\" \"*12 + f\"required electric field will depole the piezo\")\n",
    "        if du_max > displacement*1.01:\n",
    "            print(\" \"*8 + f\"max displacement too great.\")\n",
    "            print(f\"        du = {du_max:.3f} m\")\n",
    "        if du_min < -displacement*1.01:\n",
    "            print(\" \"*8 + f\"min displacement too great.\")\n",
    "            print(f\"        du = {du_min:.3f} m\")\n",
    "        \n",
    "        # cost estimate - price for piezo / price for base\n",
    "        cost_ratio = t_ratio*(base['rho']/piezo['rho'])*(base['price']/piezo['price'])\n",
    "        print(\" \"*8 + f\"cost ratio is {1/cost_ratio:.2f}\")\n",
    "    print(\"\")"
   ]
  },
  {
   "cell_type": "code",
   "execution_count": 38,
   "metadata": {},
   "outputs": [
    {
     "name": "stdout",
     "output_type": "stream",
     "text": [
      "Equation for the electric field as a function of temperature change, material properties, and the max design displacement:\n"
     ]
    },
    {
     "data": {
      "image/png": "[encoded data removed]",
      "text/latex": [
       "$\\displaystyle - \\frac{2 E_{bl} \\alpha_{bl} dT t_{b}}{E_{p} d_{113} t_{p}} + \\frac{2 E_{bl} du t_{b}}{E_{p} L_{d} d_{113} t_{p}} - \\frac{\\alpha_{p} dT}{d_{113}} + \\frac{du}{L_{d} d_{113}}$"
      ],
      "text/plain": [
       "  2⋅E_bl⋅α_bl⋅dT⋅t_b   2⋅E_bl⋅du⋅t_b    αₚ⋅dT      du   \n",
       "- ────────────────── + ────────────── - ───── + ────────\n",
       "      Eₚ⋅d₁₁₃⋅tₚ       Eₚ⋅L_d⋅d₁₁₃⋅tₚ    d₁₁₃   L_d⋅d₁₁₃"
      ]
     },
     "execution_count": 38,
     "metadata": {},
     "output_type": "execute_result"
    }
   ],
   "source": [
    "# equation for electric field given a temperature change great enough to\n",
    "# displace the structure beyond the limit\n",
    "\n",
    "# piezo stress in terms of the base material and thickness ratio\n",
    "stress_peizo = -2*stress_b1*(t_b/t_p)\n",
    "# substitute this into the electric field equation\n",
    "print(\"Equation for the electric field as a function of temperature change,\"\n",
    "      \" material properties, and the max design displacement:\")\n",
    "sp.expand(Efield_p1_func(E_p, a_p, d_113, stress_peizo, dT, L_d, du))"
   ]
  },
  {
   "cell_type": "markdown",
   "metadata": {},
   "source": [
    "<p>The choice is really between the two different graphite/epoxy composites, given that their thermal coefficients are low and close to the piezoelectric. This means less piezo can be used and there is a smaller displacement to counteract at the extreme temperature ends.</br>\n",
    "\n",
    "Because the thermal coefficient for the P70/3501-6 composite is less than the piezo electric, there is no concern of displacement at the lower temperature end. The composite contracts 0.0082m and the piezoelectric contracts 0.0098 m; and both are within the limit of 0.0100 m. The tradeoff is a need for a greater electric at the high end of the temperature range.</br>\n",
    "\n",
    "However, we can calculate a thickness ratio between base and piezoelectric to meet a desired electric field, and this combination will require far less piezoelectric than the others. This is because the base material has more favorable thermal properties and we want that to dominate the overall properties of the structure. With far less piezoelectric, the higher electric field does not equate to greater voltage because a thinner dieletric will have a greater field strength at the same voltage. </br>\n",
    "\n",
    "On the required voltage, all structure combinations only require an electric field when the structure is in the sun and power can be supplied via solar panels. Given this, reducing the initial cost should be prioritized. With the P70/3501-6 base, the ratio of base material to piezo is so great that the normalized cost calculated above is essentially zero.</br>\n",
    "\n",
    "It is recommended to use P70/3501-6 base material with PZT 5H piezoelectric material for this structure.</p>"
   ]
  },
  {
   "cell_type": "code",
   "execution_count": null,
   "metadata": {},
   "outputs": [],
   "source": []
  }
 ],
 "metadata": {
  "kernelspec": {
   "display_name": "Python 3",
   "language": "python",
   "name": "python3"
  },
  "language_info": {
   "codemirror_mode": {
    "name": "ipython",
    "version": 3
   },
   "file_extension": ".py",
   "mimetype": "text/x-python",
   "name": "python",
   "nbconvert_exporter": "python",
   "pygments_lexer": "ipython3",
   "version": "3.7.6"
  }
 },
 "nbformat": 4,
 "nbformat_minor": 4
}
