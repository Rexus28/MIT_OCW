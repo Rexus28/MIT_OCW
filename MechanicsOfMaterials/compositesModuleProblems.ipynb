{
 "cells": [
  {
   "cell_type": "markdown",
   "metadata": {},
   "source": [
    "<p>Solutions to the <a href=https://ocw.mit.edu/courses/materials-science-and-engineering/3-11-mechanics-of-materials-fall-1999/modules/MIT3_11F99_composites.pdf>Introduction to Composite Materials</a> module of MIT's Open Course <b>Mechanics of Materials</b>.</br>\n",
    "Other material properties listed <a href=https://ocw.mit.edu/courses/materials-science-and-engineering/3-11-mechanics-of-materials-fall-1999/modules/MIT3_11F99_props.pdf>here</a>.</br>\n",
    "</br>\n",
    "David Roylance. 3.11 Mechanics of Materials. Fall 1999. Massachusetts Institute of Technology: MIT OpenCourseWare, https://ocw.mit.edu. License: Creative Commons BY-NC-SA.</p>"
   ]
  },
  {
   "cell_type": "code",
   "execution_count": 9,
   "metadata": {},
   "outputs": [],
   "source": [
    "import numpy as np\n",
    "import sympy as sp\n",
    "from sympy import init_printing\n",
    "init_printing(use_latex=True)\n",
    "import matplotlib.pyplot as plt"
   ]
  },
  {
   "cell_type": "markdown",
   "metadata": {},
   "source": [
    "<p>For problem #1, the longitudinal and transverse stiffnesses are calculated using the equations from the slab model.\n",
    "<div align=center>$E_1 = V_f*E_f + V_m*E_m$</div>\n",
    "<div align=center>$\\frac{1}{E_2} = \\frac{V_f}{E_f} + \\frac{V_m}{E_m}$</div></p>"
   ]
  },
  {
   "cell_type": "code",
   "execution_count": 5,
   "metadata": {},
   "outputs": [
    {
     "name": "stdout",
     "output_type": "stream",
     "text": [
      "The longitudinal stiffness: E1 = 60.9 GPa\n",
      "The transverse stiffness: E2 = 10.6 GPa\n"
     ]
    }
   ],
   "source": [
    "# Problem 1\n",
    "# for S-glass fibers\n",
    "Ef = 85.5  # GPa\n",
    "Vf = 0.7\n",
    "\n",
    "# for the epoxy\n",
    "Em = 3.5  # GPa\n",
    "Vm = 1 - Vf\n",
    "\n",
    "# from the slab model, the composite stiffnesses are\n",
    "E1 = Vf*Ef + Vm*Em\n",
    "E2 = 1/(Vf/Ef + Vm/Em)\n",
    "\n",
    "print(f\"The longitudinal stiffness: E1 = {E1:.1f} GPa\")\n",
    "print(f\"The transverse stiffness: E2 = {E2:.1f} GPa\")"
   ]
  },
  {
   "cell_type": "markdown",
   "metadata": {},
   "source": [
    "<p>In problem #2, the longitudinal stiffness of an E-glass nylon composite is plotted over a range of fiber volumes, $V_f$."
   ]
  },
  {
   "cell_type": "code",
   "execution_count": 17,
   "metadata": {},
   "outputs": [
    {
     "data": {
      "image/png": "[encoded data removed]",
      "text/plain": [
       "<Figure size 432x288 with 1 Axes>"
      ]
     },
     "metadata": {
      "needs_background": "light"
     },
     "output_type": "display_data"
    }
   ],
   "source": [
    "# Problem 2\n",
    "# for E-glass fibers\n",
    "Ef = 72.4  # GPa\n",
    "# for the nylon\n",
    "Em = 3.0  # GPa\n",
    "\n",
    "Vf = np.linspace(0, 1, 100, endpoint=True)\n",
    "Vm = 1 - Vf\n",
    "E1 = Vf*Ef + Vm*Em\n",
    "\n",
    "plt.plot(Vf, E1)\n",
    "plt.xlabel(r\"$V_f$\")\n",
    "plt.ylabel(r\"$E_1, GPa$\")\n",
    "plt.grid(True)\n",
    "plt.show()"
   ]
  },
  {
   "cell_type": "markdown",
   "metadata": {},
   "source": [
    "<p>In problem #3, the longitudinal breaking tensile stress of an E-glass epoxy composite is plotted over a range of fiber volumes, $V_f$. Breaking stress is determined mostly by the fiber strength. Using the fiber breaking strain and composite stiffness we have:</br>\n",
    "<div align=center>$\\sigma_b = \\epsilon_{fb}*E_1 = \\epsilon_{fb}*(V_f*E_f + V_m*E_m)$</div></br>\n",
    "At low fiber volumes its possible for the fibers to break and the matrix to hold the entire load, so the breaking stress in this region is descibed as:</br>\n",
    "<div align=center>$\\sigma_b = V_m*\\sigma_{mb}$</div></br>"
   ]
  },
  {
   "cell_type": "code",
   "execution_count": 27,
   "metadata": {},
   "outputs": [
    {
     "data": {
      "image/png": "[encoded data removed]",
      "text/plain": [
       "<Figure size 432x288 with 1 Axes>"
      ]
     },
     "metadata": {
      "needs_background": "light"
     },
     "output_type": "display_data"
    }
   ],
   "source": [
    "# Problem 3\n",
    "# for E-glass fibers\n",
    "Ef = 72.4  # GPa\n",
    "sigma_fb = 2.4  # Gpa, fiber breaking stress\n",
    "epsilon_fb = 0.026  # breaking strain of the fiber\n",
    "\n",
    "# for the epoxy\n",
    "Em = 3.5  # GPa\n",
    "sigma_mb = 0.045  # Gpa, matrix breaking stress\n",
    "epsilon_mb = 0.04  # breaking strain of the matrix\n",
    "\n",
    "Vf = np.linspace(0, 1, 100, endpoint=True)\n",
    "Vm = 1 - Vf\n",
    "E1 = Vf*Ef + Vm*Em\n",
    "sigma1 = epsilon_fb*E1\n",
    "sigma2 = Vm*sigma_mb\n",
    "sigma = [max(s1, s2) for s1, s2 in zip(sigma1, sigma2)]\n",
    "\n",
    "plt.plot(Vf, sigma1)\n",
    "plt.plot(Vf, sigma2)\n",
    "plt.xlabel(r\"$V_f$\")\n",
    "plt.ylabel(r\"$\\sigma_b, GPa$\")\n",
    "plt.grid(True)\n",
    "plt.show()"
   ]
  },
  {
   "cell_type": "markdown",
   "metadata": {},
   "source": [
    "<p>After plotting both breaking stress equations, it is cleat the breaking stress is only determined by the first equation.</p>"
   ]
  },
  {
   "cell_type": "markdown",
   "metadata": {},
   "source": [
    "<p>Problem #4 asks for the greatest fiber packing volume fraction given optimal fiber packing. And assuming that the optimal packing is <a href=https://en.wikipedia.org/wiki/Fiber_volume_ratio#Common_Fiber_Packing_Arrangements>hexagonal packing</a>, the fiber volume fraction is determined with the following equation:</br>\n",
    "<div align=center>$V_f = \\left(\\frac{\\pi}{2\\sqrt{3}}\\right)*\\left(\\frac{r}{R}\\right)^2$</div>\n",
    "Where $r$ is the fiber radius and $2*R$ is the spacing between fiber centers, which in an optimal pattern: $2*R = 2*r$ and the last term drops out of the equation."
   ]
  },
  {
   "cell_type": "code",
   "execution_count": 29,
   "metadata": {},
   "outputs": [
    {
     "name": "stdout",
     "output_type": "stream",
     "text": [
      "The max fiber volume fraction = 0.907\n"
     ]
    }
   ],
   "source": [
    "#Problem 4\n",
    "Vf = (np.pi/(2*np.sqrt(3)))\n",
    "print(f\"The max fiber volume fraction = {Vf:.3f}\")"
   ]
  },
  {
   "cell_type": "markdown",
   "metadata": {},
   "source": [
    "<p>Problem #5 asks to show how the slab model is used to calculate the transverse stiffness of the composite: $\\frac{1}{E_2} = \\frac{Vf}{E_f} + \\frac{V_m}{E_m}$</br>\n",
    "Some assumptions need to be made to reach this equation: first, the stress in the fiber and matrix are the same; and second, the deformation of the slab in the transverse direction is the sum of the fiber and matrix deformations:</br>\n",
    "<div align=center>$\\epsilon_2*1 = \\epsilon_f*V_f + \\epsilon_m*V_m$</div></br>\n",
    "Deformation is $strain*length$, and length in the transverse direction of a unit slab is 1, and lengths for the fiber and matrix are equal to their volume fraction. See Figure 3 from the composites module, shown below, for how the the volume fractions add up to the unit length, $V_f + V_m = 1$.</br>\n",
    "<img align=center src=\"figure3_TransverseLoadingSlab.png\" width=300 height=300 /></br>\n",
    "The stress-strain relationship $\\epsilon = \\frac{\\sigma}{E}$ is substituted into the equation, resulting in:\n",
    "<div align=center>$\\frac{\\sigma_2}{E_2}*1 = \\frac{\\sigma_f}{E_f}*V_f + \\frac{\\sigma_m}{E_m}*V_m$</div></br>\n",
    "The first assumption that fiber and matrix stresses are equal to the composite transverse stress, $\\sigma_2 = \\sigma_f = \\sigma_m$, allow for all the $\\sigma$ terms to cancel out, resulting in the transverse stiffness equation.\n",
    "<div align=center>$\\frac{1}{E_2} = \\frac{Vf}{E_f} + \\frac{V_m}{E_m}$</div></br>\n",
    "</p>\n"
   ]
  },
  {
   "cell_type": "code",
   "execution_count": null,
   "metadata": {},
   "outputs": [],
   "source": []
  }
 ],
 "metadata": {
  "kernelspec": {
   "display_name": "Python 3",
   "language": "python",
   "name": "python3"
  },
  "language_info": {
   "codemirror_mode": {
    "name": "ipython",
    "version": 3
   },
   "file_extension": ".py",
   "mimetype": "text/x-python",
   "name": "python",
   "nbconvert_exporter": "python",
   "pygments_lexer": "ipython3",
   "version": "3.7.6"
  }
 },
 "nbformat": 4,
 "nbformat_minor": 4
}
