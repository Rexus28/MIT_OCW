{
 "cells": [
  {
   "cell_type": "markdown",
   "metadata": {},
   "source": [
    "This notebook is my solution for <a href=\"https://ocw.mit.edu/courses/aeronautics-and-astronautics/16-20-structural-mechanics-fall-2002/assignments/dp1.pdf\">Design Problem #1</a> of the <b>Structural Mechanics</b> course of MIT Open Course Work.\n",
    "\n",
    "Paul Lagace. 16.20 Structural Mechanics. Fall 2002. Massachusetts Institute of Technology: MIT OpenCourseWare, https://ocw.mit.edu. License: Creative Commons BY-NC-SA."
   ]
  },
  {
   "cell_type": "code",
   "execution_count": 1,
   "metadata": {},
   "outputs": [],
   "source": [
    "import pandas as pd\n",
    "import numpy as np\n",
    "import math"
   ]
  },
  {
   "cell_type": "code",
   "execution_count": 2,
   "metadata": {},
   "outputs": [],
   "source": [
    "# set up the initial parameters\n",
    "M = 2100  # kg, mass of the payload\n",
    "theta = 15 # deg., angle between fastener plane and ascent direction\n",
    "N_limit = 3  # g\n",
    "FS = 1.3\n",
    "g = 9.81  # m/s^2"
   ]
  },
  {
   "cell_type": "markdown",
   "metadata": {},
   "source": [
    "<p>As the launch vehicle accelerates upwards there is an inertial load that pulls the payload down in the opposite direction. Our ultimate load, $P$, on the payload is determined by multiplying the limit load, factor of safety, mass, and gravity.</br>\n",
    "<div align=center>$P = FS*N_{limit}*g*M$</div></br>\n",
    "Normally for a fastener analysis, we take into account the distance between the center of all fasteners and the center of mass of the payload becase this will create an overturning moment that increase the tension in some of the fasteners. Becase the problem does not include detailed dimensions, I'm going to assume that this overturning momoment is neglible and outside the scope of this undergraduate course.</br>\n",
    "\n",
    "The reaction load, $R$, is broken into components, $R_s$ and $R_t$, for the shear and tension reaction loads on the fasteners. The free-body diagram below shows the applied load and the reaction load components for this problem.</p>\n",
    "\n",
    "<img src=\"payloadFBD.png\" width=300 height=300 />"
   ]
  },
  {
   "cell_type": "code",
   "execution_count": 3,
   "metadata": {},
   "outputs": [
    {
     "name": "stdout",
     "output_type": "stream",
     "text": [
      "Applied Load, P = 80344 N\n",
      "Shear Reaction, Rs = 77606 N\n",
      "Tension Reaction, Rt = 20795 N\n"
     ]
    }
   ],
   "source": [
    "# Calculating reaction loads\n",
    "P = FS*N_limit*g*M\n",
    "R = P\n",
    "Rs = R*np.cos(np.radians(theta))\n",
    "Rt = R*np.sin(np.radians(theta))\n",
    "print(f\"Applied Load, P = {P:.0f} N\")\n",
    "print(f\"Shear Reaction, Rs = {Rs:.0f} N\")\n",
    "print(f\"Tension Reaction, Rt = {Rt:.0f} N\")"
   ]
  },
  {
   "cell_type": "code",
   "execution_count": 4,
   "metadata": {},
   "outputs": [
    {
     "data": {
      "text/html": [
       "<div>\n",
       "<style scoped>\n",
       "    .dataframe tbody tr th:only-of-type {\n",
       "        vertical-align: middle;\n",
       "    }\n",
       "\n",
       "    .dataframe tbody tr th {\n",
       "        vertical-align: top;\n",
       "    }\n",
       "\n",
       "    .dataframe thead th {\n",
       "        text-align: right;\n",
       "    }\n",
       "</style>\n",
       "<table border=\"1\" class=\"dataframe\">\n",
       "  <thead>\n",
       "    <tr style=\"text-align: right;\">\n",
       "      <th></th>\n",
       "      <th>Type</th>\n",
       "      <th>Weight</th>\n",
       "      <th>Shear</th>\n",
       "      <th>Tension</th>\n",
       "      <th>Price</th>\n",
       "    </tr>\n",
       "  </thead>\n",
       "  <tbody>\n",
       "    <tr>\n",
       "      <th>0</th>\n",
       "      <td>A</td>\n",
       "      <td>200</td>\n",
       "      <td>7000</td>\n",
       "      <td>7000</td>\n",
       "      <td>20</td>\n",
       "    </tr>\n",
       "    <tr>\n",
       "      <th>1</th>\n",
       "      <td>B</td>\n",
       "      <td>200</td>\n",
       "      <td>8000</td>\n",
       "      <td>6000</td>\n",
       "      <td>25</td>\n",
       "    </tr>\n",
       "    <tr>\n",
       "      <th>2</th>\n",
       "      <td>C</td>\n",
       "      <td>150</td>\n",
       "      <td>6000</td>\n",
       "      <td>4000</td>\n",
       "      <td>10</td>\n",
       "    </tr>\n",
       "    <tr>\n",
       "      <th>3</th>\n",
       "      <td>D</td>\n",
       "      <td>125</td>\n",
       "      <td>5000</td>\n",
       "      <td>2500</td>\n",
       "      <td>20</td>\n",
       "    </tr>\n",
       "    <tr>\n",
       "      <th>4</th>\n",
       "      <td>E</td>\n",
       "      <td>125</td>\n",
       "      <td>6000</td>\n",
       "      <td>5000</td>\n",
       "      <td>115</td>\n",
       "    </tr>\n",
       "    <tr>\n",
       "      <th>5</th>\n",
       "      <td>F</td>\n",
       "      <td>100</td>\n",
       "      <td>5000</td>\n",
       "      <td>3000</td>\n",
       "      <td>50</td>\n",
       "    </tr>\n",
       "  </tbody>\n",
       "</table>\n",
       "</div>"
      ],
      "text/plain": [
       "  Type  Weight  Shear  Tension  Price\n",
       "0    A     200   7000     7000     20\n",
       "1    B     200   8000     6000     25\n",
       "2    C     150   6000     4000     10\n",
       "3    D     125   5000     2500     20\n",
       "4    E     125   6000     5000    115\n",
       "5    F     100   5000     3000     50"
      ]
     },
     "execution_count": 4,
     "metadata": {},
     "output_type": "execute_result"
    }
   ],
   "source": [
    "# create a pandas dataframe with the bolt information\n",
    "bolt_types = ['A', 'B', 'C', 'D', 'E', 'F']\n",
    "weight = [200, 200, 150, 125, 125, 100]\n",
    "shears = [7000, 8000, 6000, 5000, 6000, 5000]\n",
    "tensions = [7000, 6000, 4000, 2500, 5000, 3000]\n",
    "price = [20, 25, 10, 20, 115, 50]\n",
    "d = {\"Type\":bolt_types, \"Weight\":weight, \"Shear\": shears, \"Tension\":tensions, \"Price\":price}\n",
    "fastener_df = pd.DataFrame(data=d)\n",
    "fastener_df"
   ]
  },
  {
   "cell_type": "markdown",
   "metadata": {},
   "source": [
    "<p>From the fastener shear and tension allowables we can calculate the minimum fasteners required to have a positive margin of safety with the interaction of shear and tension using the following interaction equation from Flabel:</br>\n",
    "<div align=center>$Ratio_t^2 + Ratio_s^2 = 1$</div></br>\n",
    "Where the ratio is the applied load divided by the allowable. If we include the number of fasteners, $n$, we can re-write the equation to solve for n.</br>\n",
    "<div align=center>$\\left(\\frac{R_t}{n*Tension}\\right)^2 + \\left(\\frac{R_s}{n*Shear}\\right)^2 = 1$</div></br>\n",
    "<div align=center>$n = \\sqrt{\\left(\\frac{R_t}{Tension}\\right)^2 + \\left(\\frac{R_s}{Shear}\\right)^2}$</div></br>\n",
    "Then based on this quantity we calculate the margin of safety (MS), the total weight of all fasteners in grams, and the total cost for all fasteners.\n",
    "</p>"
   ]
  },
  {
   "cell_type": "code",
   "execution_count": 5,
   "metadata": {},
   "outputs": [
    {
     "data": {
      "text/html": [
       "<div>\n",
       "<style scoped>\n",
       "    .dataframe tbody tr th:only-of-type {\n",
       "        vertical-align: middle;\n",
       "    }\n",
       "\n",
       "    .dataframe tbody tr th {\n",
       "        vertical-align: top;\n",
       "    }\n",
       "\n",
       "    .dataframe thead th {\n",
       "        text-align: right;\n",
       "    }\n",
       "</style>\n",
       "<table border=\"1\" class=\"dataframe\">\n",
       "  <thead>\n",
       "    <tr style=\"text-align: right;\">\n",
       "      <th></th>\n",
       "      <th>Type</th>\n",
       "      <th>Weight</th>\n",
       "      <th>Shear</th>\n",
       "      <th>Tension</th>\n",
       "      <th>Price</th>\n",
       "      <th>Min Qty</th>\n",
       "      <th>MS</th>\n",
       "      <th>Total Weight</th>\n",
       "      <th>Total Cost</th>\n",
       "    </tr>\n",
       "  </thead>\n",
       "  <tbody>\n",
       "    <tr>\n",
       "      <th>0</th>\n",
       "      <td>A</td>\n",
       "      <td>200</td>\n",
       "      <td>7000</td>\n",
       "      <td>7000</td>\n",
       "      <td>20</td>\n",
       "      <td>12.0</td>\n",
       "      <td>0.05</td>\n",
       "      <td>2400.0</td>\n",
       "      <td>107.14</td>\n",
       "    </tr>\n",
       "    <tr>\n",
       "      <th>1</th>\n",
       "      <td>B</td>\n",
       "      <td>200</td>\n",
       "      <td>8000</td>\n",
       "      <td>6000</td>\n",
       "      <td>25</td>\n",
       "      <td>11.0</td>\n",
       "      <td>0.07</td>\n",
       "      <td>2200.0</td>\n",
       "      <td>122.77</td>\n",
       "    </tr>\n",
       "    <tr>\n",
       "      <th>2</th>\n",
       "      <td>C</td>\n",
       "      <td>150</td>\n",
       "      <td>6000</td>\n",
       "      <td>4000</td>\n",
       "      <td>10</td>\n",
       "      <td>14.0</td>\n",
       "      <td>0.00</td>\n",
       "      <td>2100.0</td>\n",
       "      <td>46.88</td>\n",
       "    </tr>\n",
       "    <tr>\n",
       "      <th>3</th>\n",
       "      <td>D</td>\n",
       "      <td>125</td>\n",
       "      <td>5000</td>\n",
       "      <td>2500</td>\n",
       "      <td>20</td>\n",
       "      <td>18.0</td>\n",
       "      <td>0.02</td>\n",
       "      <td>2250.0</td>\n",
       "      <td>100.45</td>\n",
       "    </tr>\n",
       "    <tr>\n",
       "      <th>4</th>\n",
       "      <td>E</td>\n",
       "      <td>125</td>\n",
       "      <td>6000</td>\n",
       "      <td>5000</td>\n",
       "      <td>115</td>\n",
       "      <td>14.0</td>\n",
       "      <td>0.03</td>\n",
       "      <td>1750.0</td>\n",
       "      <td>449.22</td>\n",
       "    </tr>\n",
       "    <tr>\n",
       "      <th>5</th>\n",
       "      <td>F</td>\n",
       "      <td>100</td>\n",
       "      <td>5000</td>\n",
       "      <td>3000</td>\n",
       "      <td>50</td>\n",
       "      <td>17.0</td>\n",
       "      <td>0.00</td>\n",
       "      <td>1700.0</td>\n",
       "      <td>189.73</td>\n",
       "    </tr>\n",
       "  </tbody>\n",
       "</table>\n",
       "</div>"
      ],
      "text/plain": [
       "  Type  Weight  Shear  Tension  Price  Min Qty    MS  Total Weight  Total Cost\n",
       "0    A     200   7000     7000     20     12.0  0.05        2400.0      107.14\n",
       "1    B     200   8000     6000     25     11.0  0.07        2200.0      122.77\n",
       "2    C     150   6000     4000     10     14.0  0.00        2100.0       46.88\n",
       "3    D     125   5000     2500     20     18.0  0.02        2250.0      100.45\n",
       "4    E     125   6000     5000    115     14.0  0.03        1750.0      449.22\n",
       "5    F     100   5000     3000     50     17.0  0.00        1700.0      189.73"
      ]
     },
     "execution_count": 5,
     "metadata": {},
     "output_type": "execute_result"
    }
   ],
   "source": [
    "# calculate the min qty for the load, MS, total weight, and total cost\n",
    "# qty based on interaction equation Ratio_shear^2 + Ratio_tension^2 = 1\n",
    "fastener_df['Min Qty'] = np.ceil(np.sqrt((Rt/fastener_df['Tension'])**2 + \n",
    "                                 (Rs/fastener_df['Shear'])**2))\n",
    "n = fastener_df['Min Qty'].to_numpy()\n",
    "shear = fastener_df['Shear'].to_numpy()\n",
    "tension = fastener_df['Tension'].to_numpy()\n",
    "ratio_shear = Rs/(n*shear)\n",
    "ratio_tension = Rt/(n*tension)\n",
    "fastener_df['MS'] = 1/np.sqrt(ratio_shear**2 + ratio_tension**2) - 1\n",
    "fastener_df['MS'] = fastener_df['MS'].round(decimals=2)\n",
    "\n",
    "fastener_df['Total Weight'] = fastener_df['Weight']*fastener_df['Min Qty']\n",
    "fastener_df['Total Cost'] = (fastener_df['Total Weight']/28/16)*fastener_df['Price']\n",
    "fastener_df['Total Cost'] = fastener_df['Total Cost'].round(decimals=2)\n",
    "fastener_df"
   ]
  },
  {
   "cell_type": "markdown",
   "metadata": {},
   "source": [
    "I recommend choosing type F as it minimizes weight, even with an additional fastener to avoid such a low MS. The same would apply to the next lightest option too, so F is still the lightest total weight. \n",
    "\n",
    "Weight is the critical factor for launching something into orbit, and for every additional pound it costs ~\\\\$10,000 - \\\\$20,000. So even a 50 gram savings comes to about to at least \\\\$1,000 in savings."
   ]
  },
  {
   "cell_type": "code",
   "execution_count": 6,
   "metadata": {},
   "outputs": [
    {
     "name": "stdout",
     "output_type": "stream",
     "text": [
      "MS for 18 type F fasteners = +0.06\n"
     ]
    }
   ],
   "source": [
    "n = 18\n",
    "shear = 5000\n",
    "tension = 3000\n",
    "ratio_shear = Rs/(n*shear)\n",
    "ratio_tension = Rt/(n*tension)\n",
    "MS = 1/np.sqrt(ratio_shear**2 + ratio_tension**2) - 1\n",
    "print(f\"MS for {n} type F fasteners = +{MS:.2f}\")"
   ]
  }
 ],
 "metadata": {
  "kernelspec": {
   "display_name": "Python 3",
   "language": "python",
   "name": "python3"
  },
  "language_info": {
   "codemirror_mode": {
    "name": "ipython",
    "version": 3
   },
   "file_extension": ".py",
   "mimetype": "text/x-python",
   "name": "python",
   "nbconvert_exporter": "python",
   "pygments_lexer": "ipython3",
   "version": "3.7.6"
  }
 },
 "nbformat": 4,
 "nbformat_minor": 4
}
